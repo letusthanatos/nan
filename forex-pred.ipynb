{
 "cells": [
  {
   "cell_type": "code",
   "execution_count": 1,
   "metadata": {},
   "outputs": [
    {
     "name": "stdout",
     "output_type": "stream",
     "text": [
      "['ids-2019', 'forex-eurusd']\n"
     ]
    }
   ],
   "source": [
    "import numpy as np\n",
    "import pandas as pd \n",
    "import os\n",
    "print(os.listdir(\"../input\"))\n",
    "\n",
    "import matplotlib.pyplot as plt"
   ]
  },
  {
   "cell_type": "code",
   "execution_count": 2,
   "metadata": {},
   "outputs": [],
   "source": [
    "def pred_to_binary(s, mean=0.5):\n",
    "    ss = s.copy()\n",
    "    ss[s < mean] = 0\n",
    "    ss[s >= mean] = 1\n",
    "    return ss"
   ]
  },
  {
   "cell_type": "code",
   "execution_count": 3,
   "metadata": {},
   "outputs": [],
   "source": [
    "def all_session_off(df):\n",
    "    ls = []\n",
    "    for i in range(2,df.shape[0]):\n",
    "        if df.at[i,\"Close\"]==df.at[i-1,\"Close\"] and df.at[i,\"Close\"]==df.at[i-2,\"Close\"]:\n",
    "            ls.append(i)\n",
    "    return ls"
   ]
  },
  {
   "cell_type": "code",
   "execution_count": 4,
   "metadata": {},
   "outputs": [],
   "source": [
    "def refilled_prediction(prediction,offs_index):    \n",
    "    res = []\n",
    "    i_p = 0\n",
    "    for i,is_off in enumerate(offs_index):\n",
    "        if is_off:\n",
    "            res.append(0)\n",
    "        else:\n",
    "            res.append(predictions[i_p])\n",
    "            i_p+=1\n",
    "    return res"
   ]
  },
  {
   "cell_type": "code",
   "execution_count": 5,
   "metadata": {},
   "outputs": [],
   "source": [
    "from IPython.display import HTML\n",
    "def create_download_link(title = \"Download file\", filename = \"data.csv\"):  \n",
    "    html = '<a href={filename}>{title}</a>'\n",
    "    html = html.format(title=title,filename=filename)\n",
    "    return HTML(html)"
   ]
  },
  {
   "cell_type": "code",
   "execution_count": 6,
   "metadata": {},
   "outputs": [],
   "source": [
    "# train = pd.read_csv(\"../input/forex-eurusd/Train_small.csv\")\n",
    "train =  pd.read_csv(\"../input/ids-2019/Train_full.csv\")"
   ]
  },
  {
   "cell_type": "code",
   "execution_count": 7,
   "metadata": {},
   "outputs": [
    {
     "name": "stdout",
     "output_type": "stream",
     "text": [
      "709314==709314\n",
      "0.28650216970199377\n",
      "0.7134978302980063\n"
     ]
    },
    {
     "data": {
      "text/html": [
       "<div>\n",
       "<style scoped>\n",
       "    .dataframe tbody tr th:only-of-type {\n",
       "        vertical-align: middle;\n",
       "    }\n",
       "\n",
       "    .dataframe tbody tr th {\n",
       "        vertical-align: top;\n",
       "    }\n",
       "\n",
       "    .dataframe thead th {\n",
       "        text-align: right;\n",
       "    }\n",
       "</style>\n",
       "<table border=\"1\" class=\"dataframe\">\n",
       "  <thead>\n",
       "    <tr style=\"text-align: right;\">\n",
       "      <th></th>\n",
       "      <th>Unnamed: 0</th>\n",
       "      <th>Open</th>\n",
       "      <th>High</th>\n",
       "      <th>Low</th>\n",
       "      <th>Close</th>\n",
       "      <th>Volume</th>\n",
       "      <th>body</th>\n",
       "      <th>upper_tail</th>\n",
       "      <th>lower_tail</th>\n",
       "      <th>SMA_50</th>\n",
       "      <th>SMA_20</th>\n",
       "      <th>ATR</th>\n",
       "      <th>CCI</th>\n",
       "      <th>SAR</th>\n",
       "      <th>hour</th>\n",
       "      <th>min</th>\n",
       "      <th>dayofweek</th>\n",
       "      <th>JPY</th>\n",
       "      <th>AUD</th>\n",
       "      <th>EUR</th>\n",
       "      <th>GBP</th>\n",
       "      <th>USD</th>\n",
       "      <th>lag_return_1</th>\n",
       "      <th>return_2</th>\n",
       "      <th>lag_return_2</th>\n",
       "      <th>return_3</th>\n",
       "      <th>lag_return_3</th>\n",
       "      <th>return_4</th>\n",
       "      <th>lag_return_4</th>\n",
       "      <th>return_5</th>\n",
       "      <th>lag_return_5</th>\n",
       "      <th>return_6</th>\n",
       "      <th>lag_return_6</th>\n",
       "      <th>return_7</th>\n",
       "      <th>lag_return_7</th>\n",
       "      <th>return_8</th>\n",
       "      <th>lag_return_8</th>\n",
       "      <th>return_9</th>\n",
       "      <th>lag_return_9</th>\n",
       "      <th>return_10</th>\n",
       "      <th>...</th>\n",
       "      <th>lag_return_77</th>\n",
       "      <th>return_78</th>\n",
       "      <th>lag_return_78</th>\n",
       "      <th>return_79</th>\n",
       "      <th>lag_return_79</th>\n",
       "      <th>return_80</th>\n",
       "      <th>lag_return_80</th>\n",
       "      <th>return_81</th>\n",
       "      <th>lag_return_81</th>\n",
       "      <th>return_82</th>\n",
       "      <th>lag_return_82</th>\n",
       "      <th>return_83</th>\n",
       "      <th>lag_return_83</th>\n",
       "      <th>return_84</th>\n",
       "      <th>lag_return_84</th>\n",
       "      <th>return_85</th>\n",
       "      <th>lag_return_85</th>\n",
       "      <th>return_86</th>\n",
       "      <th>lag_return_86</th>\n",
       "      <th>return_87</th>\n",
       "      <th>lag_return_87</th>\n",
       "      <th>return_88</th>\n",
       "      <th>lag_return_88</th>\n",
       "      <th>return_89</th>\n",
       "      <th>lag_return_89</th>\n",
       "      <th>return_90</th>\n",
       "      <th>lag_return_90</th>\n",
       "      <th>return_91</th>\n",
       "      <th>lag_return_91</th>\n",
       "      <th>return_92</th>\n",
       "      <th>lag_return_92</th>\n",
       "      <th>return_93</th>\n",
       "      <th>lag_return_93</th>\n",
       "      <th>return_94</th>\n",
       "      <th>lag_return_94</th>\n",
       "      <th>return_95</th>\n",
       "      <th>lag_return_95</th>\n",
       "      <th>return_96</th>\n",
       "      <th>lag_return_96</th>\n",
       "      <th>up_down</th>\n",
       "    </tr>\n",
       "  </thead>\n",
       "  <tbody>\n",
       "    <tr>\n",
       "      <th>0</th>\n",
       "      <td>0</td>\n",
       "      <td>1.45865</td>\n",
       "      <td>1.45885</td>\n",
       "      <td>1.45856</td>\n",
       "      <td>1.45873</td>\n",
       "      <td>5004.3375</td>\n",
       "      <td>0.8</td>\n",
       "      <td>1.2</td>\n",
       "      <td>0.9</td>\n",
       "      <td>1.459251</td>\n",
       "      <td>1.459150</td>\n",
       "      <td>0.000489</td>\n",
       "      <td>-76.067241</td>\n",
       "      <td>1.459715</td>\n",
       "      <td>8</td>\n",
       "      <td>5</td>\n",
       "      <td>1</td>\n",
       "      <td>1</td>\n",
       "      <td>0</td>\n",
       "      <td>1</td>\n",
       "      <td>1</td>\n",
       "      <td>0</td>\n",
       "      <td>0.000130</td>\n",
       "      <td>0.000137</td>\n",
       "      <td>-0.000123</td>\n",
       "      <td>0.000014</td>\n",
       "      <td>0.000041</td>\n",
       "      <td>0.000055</td>\n",
       "      <td>0.000055</td>\n",
       "      <td>0.000110</td>\n",
       "      <td>-0.000384</td>\n",
       "      <td>-0.000274</td>\n",
       "      <td>0.000055</td>\n",
       "      <td>-0.000219</td>\n",
       "      <td>-0.000288</td>\n",
       "      <td>-0.000507</td>\n",
       "      <td>-0.000007</td>\n",
       "      <td>-0.000514</td>\n",
       "      <td>0.000274</td>\n",
       "      <td>-0.000240</td>\n",
       "      <td>...</td>\n",
       "      <td>0.000062</td>\n",
       "      <td>0.000665</td>\n",
       "      <td>0.000055</td>\n",
       "      <td>0.000720</td>\n",
       "      <td>-0.000110</td>\n",
       "      <td>0.000610</td>\n",
       "      <td>0.000048</td>\n",
       "      <td>0.000659</td>\n",
       "      <td>-0.000027</td>\n",
       "      <td>0.000631</td>\n",
       "      <td>0.000007</td>\n",
       "      <td>0.000638</td>\n",
       "      <td>0.000027</td>\n",
       "      <td>0.000665</td>\n",
       "      <td>-0.000117</td>\n",
       "      <td>0.000549</td>\n",
       "      <td>0.000055</td>\n",
       "      <td>0.000604</td>\n",
       "      <td>0.000014</td>\n",
       "      <td>0.000617</td>\n",
       "      <td>-0.000514</td>\n",
       "      <td>0.000103</td>\n",
       "      <td>-0.000048</td>\n",
       "      <td>0.000055</td>\n",
       "      <td>-0.000644</td>\n",
       "      <td>-0.000589</td>\n",
       "      <td>0.000048</td>\n",
       "      <td>-0.000541</td>\n",
       "      <td>0.000103</td>\n",
       "      <td>-0.000439</td>\n",
       "      <td>-0.000089</td>\n",
       "      <td>-0.000528</td>\n",
       "      <td>0.000027</td>\n",
       "      <td>-0.000500</td>\n",
       "      <td>-0.000103</td>\n",
       "      <td>-0.000603</td>\n",
       "      <td>0.000226</td>\n",
       "      <td>-0.000377</td>\n",
       "      <td>0.000933</td>\n",
       "      <td>0</td>\n",
       "    </tr>\n",
       "    <tr>\n",
       "      <th>1</th>\n",
       "      <td>1</td>\n",
       "      <td>1.45883</td>\n",
       "      <td>1.45883</td>\n",
       "      <td>1.45847</td>\n",
       "      <td>1.45863</td>\n",
       "      <td>4649.9000</td>\n",
       "      <td>-2.0</td>\n",
       "      <td>0.0</td>\n",
       "      <td>1.6</td>\n",
       "      <td>1.459236</td>\n",
       "      <td>1.459130</td>\n",
       "      <td>0.000486</td>\n",
       "      <td>-80.130826</td>\n",
       "      <td>1.459650</td>\n",
       "      <td>8</td>\n",
       "      <td>10</td>\n",
       "      <td>1</td>\n",
       "      <td>1</td>\n",
       "      <td>0</td>\n",
       "      <td>1</td>\n",
       "      <td>1</td>\n",
       "      <td>0</td>\n",
       "      <td>0.000007</td>\n",
       "      <td>-0.000062</td>\n",
       "      <td>0.000130</td>\n",
       "      <td>0.000069</td>\n",
       "      <td>-0.000123</td>\n",
       "      <td>-0.000055</td>\n",
       "      <td>0.000041</td>\n",
       "      <td>-0.000014</td>\n",
       "      <td>0.000055</td>\n",
       "      <td>0.000041</td>\n",
       "      <td>-0.000384</td>\n",
       "      <td>-0.000343</td>\n",
       "      <td>0.000055</td>\n",
       "      <td>-0.000288</td>\n",
       "      <td>-0.000288</td>\n",
       "      <td>-0.000576</td>\n",
       "      <td>-0.000007</td>\n",
       "      <td>-0.000582</td>\n",
       "      <td>...</td>\n",
       "      <td>0.000027</td>\n",
       "      <td>0.000535</td>\n",
       "      <td>0.000062</td>\n",
       "      <td>0.000597</td>\n",
       "      <td>0.000055</td>\n",
       "      <td>0.000652</td>\n",
       "      <td>-0.000110</td>\n",
       "      <td>0.000542</td>\n",
       "      <td>0.000048</td>\n",
       "      <td>0.000590</td>\n",
       "      <td>-0.000027</td>\n",
       "      <td>0.000562</td>\n",
       "      <td>0.000007</td>\n",
       "      <td>0.000569</td>\n",
       "      <td>0.000027</td>\n",
       "      <td>0.000597</td>\n",
       "      <td>-0.000117</td>\n",
       "      <td>0.000480</td>\n",
       "      <td>0.000055</td>\n",
       "      <td>0.000535</td>\n",
       "      <td>0.000014</td>\n",
       "      <td>0.000549</td>\n",
       "      <td>-0.000514</td>\n",
       "      <td>0.000034</td>\n",
       "      <td>-0.000048</td>\n",
       "      <td>-0.000014</td>\n",
       "      <td>-0.000644</td>\n",
       "      <td>-0.000658</td>\n",
       "      <td>0.000048</td>\n",
       "      <td>-0.000610</td>\n",
       "      <td>0.000103</td>\n",
       "      <td>-0.000507</td>\n",
       "      <td>-0.000089</td>\n",
       "      <td>-0.000596</td>\n",
       "      <td>0.000027</td>\n",
       "      <td>-0.000569</td>\n",
       "      <td>-0.000103</td>\n",
       "      <td>-0.000671</td>\n",
       "      <td>0.000226</td>\n",
       "      <td>1</td>\n",
       "    </tr>\n",
       "    <tr>\n",
       "      <th>2</th>\n",
       "      <td>2</td>\n",
       "      <td>1.45863</td>\n",
       "      <td>1.45896</td>\n",
       "      <td>1.45845</td>\n",
       "      <td>1.45886</td>\n",
       "      <td>5283.9500</td>\n",
       "      <td>2.3</td>\n",
       "      <td>1.0</td>\n",
       "      <td>1.8</td>\n",
       "      <td>1.459217</td>\n",
       "      <td>1.459097</td>\n",
       "      <td>0.000487</td>\n",
       "      <td>-56.856415</td>\n",
       "      <td>1.459588</td>\n",
       "      <td>8</td>\n",
       "      <td>15</td>\n",
       "      <td>1</td>\n",
       "      <td>1</td>\n",
       "      <td>0</td>\n",
       "      <td>1</td>\n",
       "      <td>1</td>\n",
       "      <td>0</td>\n",
       "      <td>-0.000069</td>\n",
       "      <td>0.000089</td>\n",
       "      <td>0.000007</td>\n",
       "      <td>0.000096</td>\n",
       "      <td>0.000130</td>\n",
       "      <td>0.000226</td>\n",
       "      <td>-0.000123</td>\n",
       "      <td>0.000103</td>\n",
       "      <td>0.000041</td>\n",
       "      <td>0.000144</td>\n",
       "      <td>0.000055</td>\n",
       "      <td>0.000199</td>\n",
       "      <td>-0.000384</td>\n",
       "      <td>-0.000185</td>\n",
       "      <td>0.000055</td>\n",
       "      <td>-0.000130</td>\n",
       "      <td>-0.000288</td>\n",
       "      <td>-0.000418</td>\n",
       "      <td>...</td>\n",
       "      <td>-0.000192</td>\n",
       "      <td>0.000665</td>\n",
       "      <td>0.000027</td>\n",
       "      <td>0.000693</td>\n",
       "      <td>0.000062</td>\n",
       "      <td>0.000755</td>\n",
       "      <td>0.000055</td>\n",
       "      <td>0.000810</td>\n",
       "      <td>-0.000110</td>\n",
       "      <td>0.000700</td>\n",
       "      <td>0.000048</td>\n",
       "      <td>0.000748</td>\n",
       "      <td>-0.000027</td>\n",
       "      <td>0.000720</td>\n",
       "      <td>0.000007</td>\n",
       "      <td>0.000727</td>\n",
       "      <td>0.000027</td>\n",
       "      <td>0.000755</td>\n",
       "      <td>-0.000117</td>\n",
       "      <td>0.000638</td>\n",
       "      <td>0.000055</td>\n",
       "      <td>0.000693</td>\n",
       "      <td>0.000014</td>\n",
       "      <td>0.000707</td>\n",
       "      <td>-0.000514</td>\n",
       "      <td>0.000192</td>\n",
       "      <td>-0.000048</td>\n",
       "      <td>0.000144</td>\n",
       "      <td>-0.000644</td>\n",
       "      <td>-0.000500</td>\n",
       "      <td>0.000048</td>\n",
       "      <td>-0.000452</td>\n",
       "      <td>0.000103</td>\n",
       "      <td>-0.000349</td>\n",
       "      <td>-0.000089</td>\n",
       "      <td>-0.000439</td>\n",
       "      <td>0.000027</td>\n",
       "      <td>-0.000411</td>\n",
       "      <td>-0.000103</td>\n",
       "      <td>1</td>\n",
       "    </tr>\n",
       "    <tr>\n",
       "      <th>3</th>\n",
       "      <td>3</td>\n",
       "      <td>1.45865</td>\n",
       "      <td>1.45905</td>\n",
       "      <td>1.45842</td>\n",
       "      <td>1.45895</td>\n",
       "      <td>5370.3375</td>\n",
       "      <td>3.0</td>\n",
       "      <td>1.0</td>\n",
       "      <td>2.3</td>\n",
       "      <td>1.459204</td>\n",
       "      <td>1.459044</td>\n",
       "      <td>0.000490</td>\n",
       "      <td>-44.709738</td>\n",
       "      <td>1.459528</td>\n",
       "      <td>8</td>\n",
       "      <td>20</td>\n",
       "      <td>1</td>\n",
       "      <td>1</td>\n",
       "      <td>0</td>\n",
       "      <td>1</td>\n",
       "      <td>1</td>\n",
       "      <td>0</td>\n",
       "      <td>0.000158</td>\n",
       "      <td>0.000219</td>\n",
       "      <td>-0.000069</td>\n",
       "      <td>0.000151</td>\n",
       "      <td>0.000007</td>\n",
       "      <td>0.000158</td>\n",
       "      <td>0.000130</td>\n",
       "      <td>0.000288</td>\n",
       "      <td>-0.000123</td>\n",
       "      <td>0.000165</td>\n",
       "      <td>0.000041</td>\n",
       "      <td>0.000206</td>\n",
       "      <td>0.000055</td>\n",
       "      <td>0.000261</td>\n",
       "      <td>-0.000384</td>\n",
       "      <td>-0.000123</td>\n",
       "      <td>0.000055</td>\n",
       "      <td>-0.000069</td>\n",
       "      <td>...</td>\n",
       "      <td>0.000062</td>\n",
       "      <td>0.000919</td>\n",
       "      <td>-0.000192</td>\n",
       "      <td>0.000727</td>\n",
       "      <td>0.000027</td>\n",
       "      <td>0.000755</td>\n",
       "      <td>0.000062</td>\n",
       "      <td>0.000816</td>\n",
       "      <td>0.000055</td>\n",
       "      <td>0.000871</td>\n",
       "      <td>-0.000110</td>\n",
       "      <td>0.000761</td>\n",
       "      <td>0.000048</td>\n",
       "      <td>0.000809</td>\n",
       "      <td>-0.000027</td>\n",
       "      <td>0.000782</td>\n",
       "      <td>0.000007</td>\n",
       "      <td>0.000789</td>\n",
       "      <td>0.000027</td>\n",
       "      <td>0.000816</td>\n",
       "      <td>-0.000117</td>\n",
       "      <td>0.000700</td>\n",
       "      <td>0.000055</td>\n",
       "      <td>0.000755</td>\n",
       "      <td>0.000014</td>\n",
       "      <td>0.000768</td>\n",
       "      <td>-0.000514</td>\n",
       "      <td>0.000254</td>\n",
       "      <td>-0.000048</td>\n",
       "      <td>0.000206</td>\n",
       "      <td>-0.000644</td>\n",
       "      <td>-0.000438</td>\n",
       "      <td>0.000048</td>\n",
       "      <td>-0.000391</td>\n",
       "      <td>0.000103</td>\n",
       "      <td>-0.000288</td>\n",
       "      <td>-0.000089</td>\n",
       "      <td>-0.000377</td>\n",
       "      <td>0.000027</td>\n",
       "      <td>0</td>\n",
       "    </tr>\n",
       "    <tr>\n",
       "      <th>4</th>\n",
       "      <td>4</td>\n",
       "      <td>1.45902</td>\n",
       "      <td>1.45905</td>\n",
       "      <td>1.45857</td>\n",
       "      <td>1.45887</td>\n",
       "      <td>3738.9375</td>\n",
       "      <td>-1.5</td>\n",
       "      <td>0.3</td>\n",
       "      <td>3.0</td>\n",
       "      <td>1.459187</td>\n",
       "      <td>1.458988</td>\n",
       "      <td>0.000490</td>\n",
       "      <td>-35.872884</td>\n",
       "      <td>1.459471</td>\n",
       "      <td>8</td>\n",
       "      <td>25</td>\n",
       "      <td>1</td>\n",
       "      <td>1</td>\n",
       "      <td>0</td>\n",
       "      <td>1</td>\n",
       "      <td>1</td>\n",
       "      <td>0</td>\n",
       "      <td>0.000062</td>\n",
       "      <td>0.000007</td>\n",
       "      <td>0.000158</td>\n",
       "      <td>0.000165</td>\n",
       "      <td>-0.000069</td>\n",
       "      <td>0.000096</td>\n",
       "      <td>0.000007</td>\n",
       "      <td>0.000103</td>\n",
       "      <td>0.000130</td>\n",
       "      <td>0.000233</td>\n",
       "      <td>-0.000123</td>\n",
       "      <td>0.000110</td>\n",
       "      <td>0.000041</td>\n",
       "      <td>0.000151</td>\n",
       "      <td>0.000055</td>\n",
       "      <td>0.000206</td>\n",
       "      <td>-0.000384</td>\n",
       "      <td>-0.000178</td>\n",
       "      <td>...</td>\n",
       "      <td>0.000343</td>\n",
       "      <td>0.000803</td>\n",
       "      <td>0.000062</td>\n",
       "      <td>0.000864</td>\n",
       "      <td>-0.000192</td>\n",
       "      <td>0.000672</td>\n",
       "      <td>0.000027</td>\n",
       "      <td>0.000700</td>\n",
       "      <td>0.000062</td>\n",
       "      <td>0.000761</td>\n",
       "      <td>0.000055</td>\n",
       "      <td>0.000816</td>\n",
       "      <td>-0.000110</td>\n",
       "      <td>0.000707</td>\n",
       "      <td>0.000048</td>\n",
       "      <td>0.000755</td>\n",
       "      <td>-0.000027</td>\n",
       "      <td>0.000727</td>\n",
       "      <td>0.000007</td>\n",
       "      <td>0.000734</td>\n",
       "      <td>0.000027</td>\n",
       "      <td>0.000761</td>\n",
       "      <td>-0.000117</td>\n",
       "      <td>0.000645</td>\n",
       "      <td>0.000055</td>\n",
       "      <td>0.000700</td>\n",
       "      <td>0.000014</td>\n",
       "      <td>0.000713</td>\n",
       "      <td>-0.000514</td>\n",
       "      <td>0.000199</td>\n",
       "      <td>-0.000048</td>\n",
       "      <td>0.000151</td>\n",
       "      <td>-0.000644</td>\n",
       "      <td>-0.000493</td>\n",
       "      <td>0.000048</td>\n",
       "      <td>-0.000445</td>\n",
       "      <td>0.000103</td>\n",
       "      <td>-0.000343</td>\n",
       "      <td>-0.000089</td>\n",
       "      <td>1</td>\n",
       "    </tr>\n",
       "  </tbody>\n",
       "</table>\n",
       "</div>"
      ],
      "text/plain": [
       "   Unnamed: 0     Open     High   ...     return_96  lag_return_96  up_down\n",
       "0           0  1.45865  1.45885   ...     -0.000377       0.000933        0\n",
       "1           1  1.45883  1.45883   ...     -0.000671       0.000226        1\n",
       "2           2  1.45863  1.45896   ...     -0.000411      -0.000103        1\n",
       "3           3  1.45865  1.45905   ...     -0.000377       0.000027        0\n",
       "4           4  1.45902  1.45905   ...     -0.000343      -0.000089        1\n",
       "\n",
       "[5 rows x 214 columns]"
      ]
     },
     "execution_count": 7,
     "metadata": {},
     "output_type": "execute_result"
    }
   ],
   "source": [
    "# Get data when all sessions are nonactive (all session off)\n",
    "# Called this \"flat\" train \n",
    "offs = all_session_off(train)\n",
    "flat_train = train.loc[offs]\n",
    "\n",
    "# Get \"real\" data that we can use to train\n",
    "flat_train_index = train.index.isin(offs)\n",
    "real_train = train.loc[~flat_train_index]\n",
    "\n",
    "print(f\"{flat_train.shape[0]+real_train.shape[0]}=={train.shape[0]}\")\n",
    "print(f\"{flat_train.shape[0]/train.shape[0]}\")\n",
    "print(f\"{real_train.shape[0]/train.shape[0]}\")\n",
    "\n",
    "real_train = real_train.reset_index(drop=True)\n",
    "real_train.head()"
   ]
  },
  {
   "cell_type": "code",
   "execution_count": 8,
   "metadata": {},
   "outputs": [
    {
     "data": {
      "text/plain": [
       "[<matplotlib.lines.Line2D at 0x7f65085a8630>]"
      ]
     },
     "execution_count": 8,
     "metadata": {},
     "output_type": "execute_result"
    },
    {
     "data": {
      "image/png": "[encoded data removed]",
      "text/plain": [
       "<Figure size 432x288 with 1 Axes>"
      ]
     },
     "metadata": {},
     "output_type": "display_data"
    }
   ],
   "source": [
    "plt.plot(flat_train[\"Close\"])"
   ]
  },
  {
   "cell_type": "code",
   "execution_count": 9,
   "metadata": {},
   "outputs": [
    {
     "data": {
      "text/plain": [
       "[<matplotlib.lines.Line2D at 0x7f6508537da0>]"
      ]
     },
     "execution_count": 9,
     "metadata": {},
     "output_type": "execute_result"
    },
    {
     "data": {
      "image/png": "[encoded data removed]",
      "text/plain": [
       "<Figure size 432x288 with 1 Axes>"
      ]
     },
     "metadata": {},
     "output_type": "display_data"
    }
   ],
   "source": [
    "plt.plot(real_train[\"Close\"])"
   ]
  },
  {
   "cell_type": "code",
   "execution_count": 10,
   "metadata": {},
   "outputs": [
    {
     "data": {
      "text/plain": [
       "['Volume', 'body', 'return_2', 'return_3', 'return_4']"
      ]
     },
     "execution_count": 10,
     "metadata": {},
     "output_type": "execute_result"
    }
   ],
   "source": [
    "# Get features\n",
    "features = [\"Volume\", \"body\",  \"return_2\", \"return_3\", \"return_4\"]\n",
    "features"
   ]
  },
  {
   "cell_type": "code",
   "execution_count": 11,
   "metadata": {},
   "outputs": [
    {
     "data": {
      "text/html": [
       "<div>\n",
       "<style scoped>\n",
       "    .dataframe tbody tr th:only-of-type {\n",
       "        vertical-align: middle;\n",
       "    }\n",
       "\n",
       "    .dataframe tbody tr th {\n",
       "        vertical-align: top;\n",
       "    }\n",
       "\n",
       "    .dataframe thead th {\n",
       "        text-align: right;\n",
       "    }\n",
       "</style>\n",
       "<table border=\"1\" class=\"dataframe\">\n",
       "  <thead>\n",
       "    <tr style=\"text-align: right;\">\n",
       "      <th></th>\n",
       "      <th>Volume</th>\n",
       "      <th>body</th>\n",
       "      <th>return_2</th>\n",
       "      <th>return_3</th>\n",
       "      <th>return_4</th>\n",
       "    </tr>\n",
       "  </thead>\n",
       "  <tbody>\n",
       "    <tr>\n",
       "      <th>0</th>\n",
       "      <td>5004.3375</td>\n",
       "      <td>0.8</td>\n",
       "      <td>0.000137</td>\n",
       "      <td>0.000014</td>\n",
       "      <td>0.000055</td>\n",
       "    </tr>\n",
       "    <tr>\n",
       "      <th>1</th>\n",
       "      <td>4649.9000</td>\n",
       "      <td>-2.0</td>\n",
       "      <td>-0.000062</td>\n",
       "      <td>0.000069</td>\n",
       "      <td>-0.000055</td>\n",
       "    </tr>\n",
       "    <tr>\n",
       "      <th>2</th>\n",
       "      <td>5283.9500</td>\n",
       "      <td>2.3</td>\n",
       "      <td>0.000089</td>\n",
       "      <td>0.000096</td>\n",
       "      <td>0.000226</td>\n",
       "    </tr>\n",
       "    <tr>\n",
       "      <th>3</th>\n",
       "      <td>5370.3375</td>\n",
       "      <td>3.0</td>\n",
       "      <td>0.000219</td>\n",
       "      <td>0.000151</td>\n",
       "      <td>0.000158</td>\n",
       "    </tr>\n",
       "    <tr>\n",
       "      <th>4</th>\n",
       "      <td>3738.9375</td>\n",
       "      <td>-1.5</td>\n",
       "      <td>0.000007</td>\n",
       "      <td>0.000165</td>\n",
       "      <td>0.000096</td>\n",
       "    </tr>\n",
       "  </tbody>\n",
       "</table>\n",
       "</div>"
      ],
      "text/plain": [
       "      Volume  body  return_2  return_3  return_4\n",
       "0  5004.3375   0.8  0.000137  0.000014  0.000055\n",
       "1  4649.9000  -2.0 -0.000062  0.000069 -0.000055\n",
       "2  5283.9500   2.3  0.000089  0.000096  0.000226\n",
       "3  5370.3375   3.0  0.000219  0.000151  0.000158\n",
       "4  3738.9375  -1.5  0.000007  0.000165  0.000096"
      ]
     },
     "execution_count": 11,
     "metadata": {},
     "output_type": "execute_result"
    }
   ],
   "source": [
    "# Seperate dataset into input and output\n",
    "X = real_train[features]\n",
    "y = real_train[\"up_down\"]\n",
    "X.head()"
   ]
  },
  {
   "cell_type": "code",
   "execution_count": 12,
   "metadata": {},
   "outputs": [
    {
     "data": {
      "text/plain": [
       "0    0\n",
       "1    1\n",
       "2    1\n",
       "3    0\n",
       "4    1\n",
       "Name: up_down, dtype: int64"
      ]
     },
     "execution_count": 12,
     "metadata": {},
     "output_type": "execute_result"
    }
   ],
   "source": [
    "y.head()"
   ]
  },
  {
   "cell_type": "code",
   "execution_count": 13,
   "metadata": {},
   "outputs": [],
   "source": [
    "# Seperate into training and testing dataset\n",
    "from sklearn.model_selection import train_test_split\n",
    "X_train, X_test, y_train, y_test = train_test_split(X, y, test_size=0.33, random_state=1123)"
   ]
  },
  {
   "cell_type": "code",
   "execution_count": 14,
   "metadata": {},
   "outputs": [],
   "source": [
    "# Import model\n",
    "from sklearn.neural_network import MLPClassifier"
   ]
  },
  {
   "cell_type": "code",
   "execution_count": 15,
   "metadata": {},
   "outputs": [
    {
     "name": "stdout",
     "output_type": "stream",
     "text": [
      "Iteration 1, loss = 1.57662745\n",
      "Validation score: 0.506060\n",
      "Iteration 2, loss = 1.22249185\n",
      "Validation score: 0.525229\n",
      "Iteration 3, loss = 1.00595638\n",
      "Validation score: 0.508980\n",
      "Iteration 4, loss = 0.89774670\n",
      "Validation score: 0.494618\n",
      "Iteration 5, loss = 0.88287081\n",
      "Validation score: 0.518093\n",
      "Iteration 6, loss = 0.79545012\n",
      "Validation score: 0.519154\n",
      "Iteration 7, loss = 0.78907285\n",
      "Validation score: 0.511133\n",
      "Iteration 8, loss = 0.75539623\n",
      "Validation score: 0.520157\n",
      "Iteration 9, loss = 0.73180974\n",
      "Validation score: 0.510189\n",
      "Iteration 10, loss = 0.72849230\n",
      "Validation score: 0.512430\n",
      "Iteration 11, loss = 0.71925859\n",
      "Validation score: 0.495178\n",
      "Iteration 12, loss = 0.71025357\n",
      "Validation score: 0.513757\n",
      "Iteration 13, loss = 0.71533946\n",
      "Validation score: 0.518063\n",
      "Validation score did not improve more than tol=0.000100 for 10 consecutive epochs. Stopping.\n"
     ]
    },
    {
     "data": {
      "text/plain": [
       "MLPClassifier(activation='relu', alpha=0.0001, batch_size='auto', beta_1=0.9,\n",
       "       beta_2=0.999, early_stopping=True, epsilon=1e-08,\n",
       "       hidden_layer_sizes=(100, 100), learning_rate='constant',\n",
       "       learning_rate_init=0.001, max_iter=1000, momentum=0.9,\n",
       "       n_iter_no_change=10, nesterovs_momentum=True, power_t=0.5,\n",
       "       random_state=None, shuffle=True, solver='adam', tol=0.0001,\n",
       "       validation_fraction=0.1, verbose=1, warm_start=False)"
      ]
     },
     "execution_count": 15,
     "metadata": {},
     "output_type": "execute_result"
    }
   ],
   "source": [
    "clf = MLPClassifier(hidden_layer_sizes=(100,100), max_iter=1000, verbose=1, early_stopping=True)  \n",
    "clf.fit(X_train, y_train)"
   ]
  },
  {
   "cell_type": "code",
   "execution_count": 16,
   "metadata": {},
   "outputs": [
    {
     "data": {
      "text/plain": [
       "-0.9049340500936105"
      ]
     },
     "execution_count": 16,
     "metadata": {},
     "output_type": "execute_result"
    }
   ],
   "source": [
    "# Score on train-test \n",
    "from sklearn.metrics import r2_score\n",
    "predictions = clf.predict(X_test)\n",
    "r2_score(predictions, y_test)"
   ]
  },
  {
   "cell_type": "code",
   "execution_count": 17,
   "metadata": {},
   "outputs": [
    {
     "data": {
      "text/html": [
       "<div>\n",
       "<style scoped>\n",
       "    .dataframe tbody tr th:only-of-type {\n",
       "        vertical-align: middle;\n",
       "    }\n",
       "\n",
       "    .dataframe tbody tr th {\n",
       "        vertical-align: top;\n",
       "    }\n",
       "\n",
       "    .dataframe thead th {\n",
       "        text-align: right;\n",
       "    }\n",
       "</style>\n",
       "<table border=\"1\" class=\"dataframe\">\n",
       "  <thead>\n",
       "    <tr style=\"text-align: right;\">\n",
       "      <th></th>\n",
       "      <th>0</th>\n",
       "    </tr>\n",
       "  </thead>\n",
       "  <tbody>\n",
       "    <tr>\n",
       "      <th>count</th>\n",
       "      <td>167012.000000</td>\n",
       "    </tr>\n",
       "    <tr>\n",
       "      <th>mean</th>\n",
       "      <td>0.528016</td>\n",
       "    </tr>\n",
       "    <tr>\n",
       "      <th>std</th>\n",
       "      <td>0.499216</td>\n",
       "    </tr>\n",
       "    <tr>\n",
       "      <th>min</th>\n",
       "      <td>0.000000</td>\n",
       "    </tr>\n",
       "    <tr>\n",
       "      <th>25%</th>\n",
       "      <td>0.000000</td>\n",
       "    </tr>\n",
       "    <tr>\n",
       "      <th>50%</th>\n",
       "      <td>1.000000</td>\n",
       "    </tr>\n",
       "    <tr>\n",
       "      <th>75%</th>\n",
       "      <td>1.000000</td>\n",
       "    </tr>\n",
       "    <tr>\n",
       "      <th>max</th>\n",
       "      <td>1.000000</td>\n",
       "    </tr>\n",
       "  </tbody>\n",
       "</table>\n",
       "</div>"
      ],
      "text/plain": [
       "                   0\n",
       "count  167012.000000\n",
       "mean        0.528016\n",
       "std         0.499216\n",
       "min         0.000000\n",
       "25%         0.000000\n",
       "50%         1.000000\n",
       "75%         1.000000\n",
       "max         1.000000"
      ]
     },
     "execution_count": 17,
     "metadata": {},
     "output_type": "execute_result"
    }
   ],
   "source": [
    "pd.DataFrame(pred_to_binary(predictions)).describe()"
   ]
  },
  {
   "cell_type": "code",
   "execution_count": 18,
   "metadata": {},
   "outputs": [
    {
     "data": {
      "text/plain": [
       "array([1, 0, 1, ..., 0, 1, 1])"
      ]
     },
     "execution_count": 18,
     "metadata": {},
     "output_type": "execute_result"
    }
   ],
   "source": [
    "# Write to public dataset\n",
    "test =  pd.read_csv(\"../input/ids-2019/Test_small_features.csv\")\n",
    "\n",
    "# Get data of nonactive sessions\n",
    "offs_test = all_session_off(test)\n",
    "flat_test = test.loc[offs_test]\n",
    "\n",
    "# Get data of active sessions\n",
    "flat_test_index = test.index.isin(offs_test)\n",
    "real_test = test.loc[~flat_test_index]\n",
    "\n",
    "# Get X on public dataset\n",
    "X_of_public_test = real_test[features]\n",
    "\n",
    "# Predict using our model\n",
    "real_predictions = clf.predict(X_of_public_test)\n",
    "real_predictions"
   ]
  },
  {
   "cell_type": "code",
   "execution_count": 19,
   "metadata": {},
   "outputs": [
    {
     "name": "stdout",
     "output_type": "stream",
     "text": [
      "[1, 0, 1, 1, 1, 0, 1, 0, 0, 0, 0, 1, 0, 1, 1, 0, 0, 1, 1, 0, 1, 1, 1] 10962\n"
     ]
    }
   ],
   "source": [
    "# Merge the prediction in active sessions \n",
    "# with array of 0 in nonactive sessions (off sessiosn)\n",
    "final_predictions = refilled_prediction(real_predictions, flat_test_index)\n",
    "print(f\"{final_predictions[:23]} {len(final_predictions)}\")"
   ]
  },
  {
   "cell_type": "code",
   "execution_count": 20,
   "metadata": {},
   "outputs": [
    {
     "name": "stdout",
     "output_type": "stream",
     "text": [
      "__notebook__.ipynb  __output__.json  submission.csv\r\n"
     ]
    }
   ],
   "source": [
    "# Write final prediction to file\n",
    "f = open(\"submission.csv\",\"w\")\n",
    "f.write(\"num,\\tlabel\\n\")\n",
    "\n",
    "for i,u in enumerate(final_predictions[1:]+[0]):\n",
    "    f.write(f\"{i},\\t{u}\\n\")\n",
    "    \n",
    "f.close()\n",
    "!ls"
   ]
  },
  {
   "cell_type": "code",
   "execution_count": 21,
   "metadata": {},
   "outputs": [
    {
     "data": {
      "text/html": [
       "<a href=submission.csv>Download file</a>"
      ],
      "text/plain": [
       "<IPython.core.display.HTML object>"
      ]
     },
     "execution_count": 21,
     "metadata": {},
     "output_type": "execute_result"
    }
   ],
   "source": [
    "# Export submission file\n",
    "create_download_link(filename='submission.csv')"
   ]
  },
  {
   "cell_type": "code",
   "execution_count": 22,
   "metadata": {},
   "outputs": [
    {
     "data": {
      "text/html": [
       "<a href=model_pickle>Download file</a>"
      ],
      "text/plain": [
       "<IPython.core.display.HTML object>"
      ]
     },
     "execution_count": 22,
     "metadata": {},
     "output_type": "execute_result"
    }
   ],
   "source": [
    "# Export model\n",
    "import pickle\n",
    "pickle.dump(clf, open(\"model_pickle\", 'wb'))\n",
    "create_download_link(filename='model_pickle')"
   ]
  },
  {
   "cell_type": "code",
   "execution_count": 23,
   "metadata": {},
   "outputs": [
    {
     "name": "stdout",
     "output_type": "stream",
     "text": [
      "Public dataset score = 0.6322415837970988\n",
      "Public dataset score = 0.6361645835234011\n",
      "Public dataset score = 0.6361645835234011\n",
      "Public dataset score = 0.6238481890338473\n",
      "Public dataset score = 0.6361977741288086\n",
      "Public dataset score = 0.6322751322751323\n"
     ]
    }
   ],
   "source": [
    "# Pseudo score on public dataset\n",
    "def to_binary(s):\n",
    "    ss = s.copy()\n",
    "    # If before - later < 0 -> should buy    \n",
    "    ss[s > 0] = 0\n",
    "    ss[s < 0] = 1\n",
    "    return ss\n",
    "\n",
    "def to_diff(s):\n",
    "    ss = s.diff(periods=-1)\n",
    "    # Replace the nan last one with average\n",
    "    ss = ss.replace(np.nan, ss.mean())\n",
    "    return ss\n",
    "\n",
    "from sklearn.metrics import accuracy_score\n",
    "test[\"up_down\"] = to_binary(to_diff(test[\"Close\"]))\n",
    "\n",
    "public = test[\"up_down\"]\n",
    "print(f\"Public dataset score = {accuracy_score(public[0:-1],final_predictions[1:])}\")\n",
    "print(f\"Public dataset score = {accuracy_score(public[1:],final_predictions[1:])}\")\n",
    "print(f\"Public dataset score = {accuracy_score(public[0:-1],final_predictions[0:-1])}\")\n",
    "print(f\"Public dataset score = {accuracy_score(public[1:],final_predictions[0:-1])}\")\n",
    "print(f\"Public dataset score = {accuracy_score(public,final_predictions[0:-1]+[0])}\")\n",
    "print(f\"Public dataset score = {accuracy_score(public,final_predictions[1:]+[0])}\")"
   ]
  }
 ],
 "metadata": {
  "kernelspec": {
   "display_name": "Python 3",
   "language": "python",
   "name": "python3"
  },
  "language_info": {
   "codemirror_mode": {
    "name": "ipython",
    "version": 3
   },
   "file_extension": ".py",
   "mimetype": "text/x-python",
   "name": "python",
   "nbconvert_exporter": "python",
   "pygments_lexer": "ipython3",
   "version": "3.6.4"
  }
 },
 "nbformat": 4,
 "nbformat_minor": 1
}
